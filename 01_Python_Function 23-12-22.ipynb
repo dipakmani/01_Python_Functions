{
 "cells": [
  {
   "cell_type": "code",
   "execution_count": 1,
   "id": "bbd61167",
   "metadata": {},
   "outputs": [],
   "source": [
    "#####Functions##########"
   ]
  },
  {
   "cell_type": "code",
   "execution_count": 41,
   "id": "fde40d12",
   "metadata": {},
   "outputs": [],
   "source": [
    "def test():   # washing machine, Refrigerator, Ovan\n",
    "    pass      # not written anything then we will give pass  # it does nothing at all"
   ]
  },
  {
   "cell_type": "code",
   "execution_count": 42,
   "id": "74fa0164",
   "metadata": {},
   "outputs": [
    {
     "data": {
      "text/plain": [
       "NoneType"
      ]
     },
     "execution_count": 42,
     "metadata": {},
     "output_type": "execute_result"
    }
   ],
   "source": [
    "type(test())"
   ]
  },
  {
   "cell_type": "code",
   "execution_count": 43,
   "id": "66c1922a",
   "metadata": {},
   "outputs": [
    {
     "ename": "IndentationError",
     "evalue": "expected an indented block (4277359475.py, line 1)",
     "output_type": "error",
     "traceback": [
      "\u001b[1;36m  Input \u001b[1;32mIn [43]\u001b[1;36m\u001b[0m\n\u001b[1;33m    def test(): # mandatory function should return something else give pass otherwise we will get an error\u001b[0m\n\u001b[1;37m                                                                                                          ^\u001b[0m\n\u001b[1;31mIndentationError\u001b[0m\u001b[1;31m:\u001b[0m expected an indented block\n"
     ]
    }
   ],
   "source": [
    "def test(): # mandatory function should return something else give pass otherwise we will get an error"
   ]
  },
  {
   "cell_type": "code",
   "execution_count": 44,
   "id": "4c2df20c",
   "metadata": {},
   "outputs": [],
   "source": [
    "def add():\n",
    "    a=1\n",
    "    b=2\n",
    "    print(a+b)"
   ]
  },
  {
   "cell_type": "code",
   "execution_count": 45,
   "id": "960b12e0",
   "metadata": {},
   "outputs": [
    {
     "name": "stdout",
     "output_type": "stream",
     "text": [
      "3\n"
     ]
    }
   ],
   "source": [
    "add()"
   ]
  },
  {
   "cell_type": "code",
   "execution_count": 46,
   "id": "c261a8b9",
   "metadata": {},
   "outputs": [],
   "source": [
    "def add(a,b):\n",
    "    print(a+b)"
   ]
  },
  {
   "cell_type": "code",
   "execution_count": 47,
   "id": "3e68fb1a",
   "metadata": {},
   "outputs": [
    {
     "name": "stdout",
     "output_type": "stream",
     "text": [
      "5\n"
     ]
    }
   ],
   "source": [
    "add(2,3)"
   ]
  },
  {
   "cell_type": "code",
   "execution_count": 48,
   "id": "25414bf3",
   "metadata": {},
   "outputs": [
    {
     "name": "stdout",
     "output_type": "stream",
     "text": [
      "5.5\n"
     ]
    }
   ],
   "source": [
    "add(2.5,3)"
   ]
  },
  {
   "cell_type": "code",
   "execution_count": 49,
   "id": "c1db702e",
   "metadata": {},
   "outputs": [
    {
     "name": "stdout",
     "output_type": "stream",
     "text": [
      "8.8\n"
     ]
    }
   ],
   "source": [
    "add(5.5,3.3)"
   ]
  },
  {
   "cell_type": "code",
   "execution_count": 50,
   "id": "5a24e5eb",
   "metadata": {},
   "outputs": [
    {
     "ename": "TypeError",
     "evalue": "unsupported operand type(s) for +: 'int' and 'str'",
     "output_type": "error",
     "traceback": [
      "\u001b[1;31m---------------------------------------------------------------------------\u001b[0m",
      "\u001b[1;31mTypeError\u001b[0m                                 Traceback (most recent call last)",
      "Input \u001b[1;32mIn [50]\u001b[0m, in \u001b[0;36m<cell line: 1>\u001b[1;34m()\u001b[0m\n\u001b[1;32m----> 1\u001b[0m \u001b[43madd\u001b[49m\u001b[43m(\u001b[49m\u001b[38;5;241;43m2\u001b[39;49m\u001b[43m,\u001b[49m\u001b[38;5;124;43m\"\u001b[39;49m\u001b[38;5;124;43manand\u001b[39;49m\u001b[38;5;124;43m\"\u001b[39;49m\u001b[43m)\u001b[49m\n",
      "Input \u001b[1;32mIn [46]\u001b[0m, in \u001b[0;36madd\u001b[1;34m(a, b)\u001b[0m\n\u001b[0;32m      1\u001b[0m \u001b[38;5;28;01mdef\u001b[39;00m \u001b[38;5;21madd\u001b[39m(a,b):\n\u001b[1;32m----> 2\u001b[0m     \u001b[38;5;28mprint\u001b[39m(\u001b[43ma\u001b[49m\u001b[38;5;241;43m+\u001b[39;49m\u001b[43mb\u001b[49m)\n",
      "\u001b[1;31mTypeError\u001b[0m: unsupported operand type(s) for +: 'int' and 'str'"
     ]
    }
   ],
   "source": [
    "add(2,\"anand\") # error because of 2 is int and anand is str both is separate thats why error will came"
   ]
  },
  {
   "cell_type": "code",
   "execution_count": 51,
   "id": "ff44b26f",
   "metadata": {},
   "outputs": [
    {
     "name": "stdout",
     "output_type": "stream",
     "text": [
      "2anand\n"
     ]
    }
   ],
   "source": [
    "add('2','anand')"
   ]
  },
  {
   "cell_type": "code",
   "execution_count": 52,
   "id": "866efa67",
   "metadata": {},
   "outputs": [
    {
     "data": {
      "text/plain": [
       "function"
      ]
     },
     "execution_count": 52,
     "metadata": {},
     "output_type": "execute_result"
    }
   ],
   "source": [
    "type(add)"
   ]
  },
  {
   "cell_type": "code",
   "execution_count": 53,
   "id": "5db8fde2",
   "metadata": {},
   "outputs": [
    {
     "name": "stdout",
     "output_type": "stream",
     "text": [
      "xyz\n"
     ]
    },
    {
     "data": {
      "text/plain": [
       "NoneType"
      ]
     },
     "execution_count": 53,
     "metadata": {},
     "output_type": "execute_result"
    }
   ],
   "source": [
    "type(print(\"xyz\"))"
   ]
  },
  {
   "cell_type": "code",
   "execution_count": 54,
   "id": "42127a9a",
   "metadata": {},
   "outputs": [],
   "source": [
    "def add(a,b):\n",
    "    return str(a)+str(b)  #converted int to str here"
   ]
  },
  {
   "cell_type": "code",
   "execution_count": 55,
   "id": "01cdee17",
   "metadata": {},
   "outputs": [
    {
     "data": {
      "text/plain": [
       "'34'"
      ]
     },
     "execution_count": 55,
     "metadata": {},
     "output_type": "execute_result"
    }
   ],
   "source": [
    "add(3,4)"
   ]
  },
  {
   "cell_type": "code",
   "execution_count": 56,
   "id": "468a7ddf",
   "metadata": {},
   "outputs": [
    {
     "data": {
      "text/plain": [
       "'3Virat Kohli'"
      ]
     },
     "execution_count": 56,
     "metadata": {},
     "output_type": "execute_result"
    }
   ],
   "source": [
    "add(3,\"Virat Kohli\")"
   ]
  },
  {
   "cell_type": "code",
   "execution_count": 57,
   "id": "15b27da2",
   "metadata": {},
   "outputs": [],
   "source": [
    "def add(a,b):\n",
    "    return int(a) + int(b)"
   ]
  },
  {
   "cell_type": "code",
   "execution_count": 58,
   "id": "b39f4da2",
   "metadata": {},
   "outputs": [
    {
     "data": {
      "text/plain": [
       "5"
      ]
     },
     "execution_count": 58,
     "metadata": {},
     "output_type": "execute_result"
    }
   ],
   "source": [
    "add(\"2\",\"3\")"
   ]
  },
  {
   "cell_type": "code",
   "execution_count": 59,
   "id": "3dc486ba",
   "metadata": {},
   "outputs": [],
   "source": [
    "def add(a,b):\n",
    "    a = 1\n",
    "    b = 2\n",
    "    print(a+b)"
   ]
  },
  {
   "cell_type": "code",
   "execution_count": 60,
   "id": "a8e76402",
   "metadata": {},
   "outputs": [
    {
     "name": "stdout",
     "output_type": "stream",
     "text": [
      "3\n"
     ]
    }
   ],
   "source": [
    "add(5,6) # only local variable values run"
   ]
  },
  {
   "cell_type": "code",
   "execution_count": 61,
   "id": "12bd723d",
   "metadata": {},
   "outputs": [],
   "source": [
    "def add(a,b):\n",
    "    print(a+b)"
   ]
  },
  {
   "cell_type": "code",
   "execution_count": 62,
   "id": "1828a4e4",
   "metadata": {},
   "outputs": [
    {
     "name": "stdout",
     "output_type": "stream",
     "text": [
      "11\n"
     ]
    }
   ],
   "source": [
    "add(5,6)"
   ]
  },
  {
   "cell_type": "code",
   "execution_count": 63,
   "id": "0a7af79e",
   "metadata": {},
   "outputs": [],
   "source": [
    "def add(a,b):\n",
    "    a=1\n",
    "    b=2\n",
    "    c=3\n",
    "    return a+b"
   ]
  },
  {
   "cell_type": "code",
   "execution_count": 64,
   "id": "5beb3057",
   "metadata": {},
   "outputs": [
    {
     "data": {
      "text/plain": [
       "13"
      ]
     },
     "execution_count": 64,
     "metadata": {},
     "output_type": "execute_result"
    }
   ],
   "source": [
    "c = 10\n",
    "add(5,6) + c"
   ]
  },
  {
   "cell_type": "code",
   "execution_count": 65,
   "id": "0ffc0049",
   "metadata": {},
   "outputs": [],
   "source": [
    "def add(a,b):\n",
    "    a=1\n",
    "    b=2\n",
    "    c=3\n",
    "    return a+b+c"
   ]
  },
  {
   "cell_type": "code",
   "execution_count": 66,
   "id": "a1180c68",
   "metadata": {},
   "outputs": [
    {
     "data": {
      "text/plain": [
       "16"
      ]
     },
     "execution_count": 66,
     "metadata": {},
     "output_type": "execute_result"
    }
   ],
   "source": [
    "c = 10\n",
    "add(5,6) + c"
   ]
  },
  {
   "cell_type": "code",
   "execution_count": 67,
   "id": "d0f73327",
   "metadata": {},
   "outputs": [],
   "source": [
    "def add(a,b):\n",
    "    a=1\n",
    "    b=2\n",
    "    c=3\n",
    "    return a+b+c,a+b,a+b*c"
   ]
  },
  {
   "cell_type": "code",
   "execution_count": 68,
   "id": "b7fcef57",
   "metadata": {},
   "outputs": [
    {
     "data": {
      "text/plain": [
       "(6, 3, 7)"
      ]
     },
     "execution_count": 68,
     "metadata": {},
     "output_type": "execute_result"
    }
   ],
   "source": [
    "add(2,3)"
   ]
  },
  {
   "cell_type": "code",
   "execution_count": 69,
   "id": "e99fa60f",
   "metadata": {},
   "outputs": [
    {
     "data": {
      "text/plain": [
       "(6, 3, 7)"
      ]
     },
     "execution_count": 69,
     "metadata": {},
     "output_type": "execute_result"
    }
   ],
   "source": [
    "add(1,3)"
   ]
  },
  {
   "cell_type": "code",
   "execution_count": 70,
   "id": "9959caa7",
   "metadata": {},
   "outputs": [
    {
     "data": {
      "text/plain": [
       "tuple"
      ]
     },
     "execution_count": 70,
     "metadata": {},
     "output_type": "execute_result"
    }
   ],
   "source": [
    "type(add(1,3))"
   ]
  },
  {
   "cell_type": "code",
   "execution_count": 71,
   "id": "dbda6089",
   "metadata": {},
   "outputs": [
    {
     "ename": "TypeError",
     "evalue": "add() takes 2 positional arguments but 3 were given",
     "output_type": "error",
     "traceback": [
      "\u001b[1;31m---------------------------------------------------------------------------\u001b[0m",
      "\u001b[1;31mTypeError\u001b[0m                                 Traceback (most recent call last)",
      "Input \u001b[1;32mIn [71]\u001b[0m, in \u001b[0;36m<cell line: 1>\u001b[1;34m()\u001b[0m\n\u001b[1;32m----> 1\u001b[0m \u001b[43madd\u001b[49m\u001b[43m(\u001b[49m\u001b[38;5;241;43m1\u001b[39;49m\u001b[43m,\u001b[49m\u001b[38;5;241;43m2\u001b[39;49m\u001b[43m,\u001b[49m\u001b[38;5;241;43m3\u001b[39;49m\u001b[43m)\u001b[49m\n",
      "\u001b[1;31mTypeError\u001b[0m: add() takes 2 positional arguments but 3 were given"
     ]
    }
   ],
   "source": [
    "add(1,2,3) # three values pass here thats why error came"
   ]
  },
  {
   "cell_type": "code",
   "execution_count": 72,
   "id": "41f64cab",
   "metadata": {},
   "outputs": [
    {
     "ename": "TypeError",
     "evalue": "can only concatenate tuple (not \"int\") to tuple",
     "output_type": "error",
     "traceback": [
      "\u001b[1;31m---------------------------------------------------------------------------\u001b[0m",
      "\u001b[1;31mTypeError\u001b[0m                                 Traceback (most recent call last)",
      "Input \u001b[1;32mIn [72]\u001b[0m, in \u001b[0;36m<cell line: 1>\u001b[1;34m()\u001b[0m\n\u001b[1;32m----> 1\u001b[0m \u001b[43madd\u001b[49m\u001b[43m(\u001b[49m\u001b[38;5;241;43m6\u001b[39;49m\u001b[43m,\u001b[49m\u001b[38;5;241;43m5\u001b[39;49m\u001b[43m)\u001b[49m\u001b[38;5;241;43m+\u001b[39;49m\u001b[43mc\u001b[49m\n",
      "\u001b[1;31mTypeError\u001b[0m: can only concatenate tuple (not \"int\") to tuple"
     ]
    }
   ],
   "source": [
    "add(6,5)+c"
   ]
  },
  {
   "cell_type": "code",
   "execution_count": 73,
   "id": "74d2a35a",
   "metadata": {},
   "outputs": [],
   "source": [
    "c = 5\n",
    "c = 1\n",
    "def add(a,b):\n",
    "    a = 1\n",
    "    b = 2\n",
    "    c = 4\n",
    "    return a+b+c"
   ]
  },
  {
   "cell_type": "code",
   "execution_count": 74,
   "id": "c4e22296",
   "metadata": {},
   "outputs": [
    {
     "data": {
      "text/plain": [
       "7"
      ]
     },
     "execution_count": 74,
     "metadata": {},
     "output_type": "execute_result"
    }
   ],
   "source": [
    "add(2,3)"
   ]
  },
  {
   "cell_type": "code",
   "execution_count": 75,
   "id": "d2044eda",
   "metadata": {},
   "outputs": [
    {
     "ename": "TypeError",
     "evalue": "add() missing 2 required positional arguments: 'a' and 'b'",
     "output_type": "error",
     "traceback": [
      "\u001b[1;31m---------------------------------------------------------------------------\u001b[0m",
      "\u001b[1;31mTypeError\u001b[0m                                 Traceback (most recent call last)",
      "Input \u001b[1;32mIn [75]\u001b[0m, in \u001b[0;36m<cell line: 1>\u001b[1;34m()\u001b[0m\n\u001b[1;32m----> 1\u001b[0m \u001b[43madd\u001b[49m\u001b[43m(\u001b[49m\u001b[43m)\u001b[49m\n",
      "\u001b[1;31mTypeError\u001b[0m: add() missing 2 required positional arguments: 'a' and 'b'"
     ]
    }
   ],
   "source": [
    "add()"
   ]
  },
  {
   "cell_type": "code",
   "execution_count": 76,
   "id": "9b1a37a5",
   "metadata": {},
   "outputs": [
    {
     "name": "stdout",
     "output_type": "stream",
     "text": [
      "value inside function 10\n",
      "value outside function 20\n"
     ]
    }
   ],
   "source": [
    "def my_func():\n",
    "    x = 10\n",
    "    print(\"value inside function\",x)\n",
    "\n",
    "x = 20\n",
    "my_func()\n",
    "print(\"value outside function\",x)"
   ]
  },
  {
   "cell_type": "code",
   "execution_count": 77,
   "id": "5cb1489a",
   "metadata": {},
   "outputs": [
    {
     "data": {
      "text/plain": [
       "(9, 24, 14)"
      ]
     },
     "execution_count": 77,
     "metadata": {},
     "output_type": "execute_result"
    }
   ],
   "source": [
    "def abc(a,b,c):\n",
    "    return a+b+c, a*b*c, a+b*c \n",
    "abc(2,3,4)"
   ]
  },
  {
   "cell_type": "code",
   "execution_count": 78,
   "id": "7bdb03d8",
   "metadata": {},
   "outputs": [],
   "source": [
    "def abc(a,b,c):\n",
    "    return a+b+c, a*b*c, a+b*c "
   ]
  },
  {
   "cell_type": "code",
   "execution_count": 79,
   "id": "c2f1413f",
   "metadata": {},
   "outputs": [
    {
     "data": {
      "text/plain": [
       "(9, 24, 14)"
      ]
     },
     "execution_count": 79,
     "metadata": {},
     "output_type": "execute_result"
    }
   ],
   "source": [
    "abc(2,3,4)"
   ]
  },
  {
   "cell_type": "code",
   "execution_count": 80,
   "id": "792af5f8",
   "metadata": {},
   "outputs": [],
   "source": [
    "def test():\n",
    "    return \"Sudhanshu\" ,[4,5,6,7],{'a':5,'b':6}"
   ]
  },
  {
   "cell_type": "code",
   "execution_count": 81,
   "id": "e4d51ae0",
   "metadata": {},
   "outputs": [
    {
     "data": {
      "text/plain": [
       "('Sudhanshu', [4, 5, 6, 7], {'a': 5, 'b': 6})"
      ]
     },
     "execution_count": 81,
     "metadata": {},
     "output_type": "execute_result"
    }
   ],
   "source": [
    "test()"
   ]
  },
  {
   "cell_type": "code",
   "execution_count": 82,
   "id": "a4efb006",
   "metadata": {},
   "outputs": [
    {
     "data": {
      "text/plain": [
       "4"
      ]
     },
     "execution_count": 82,
     "metadata": {},
     "output_type": "execute_result"
    }
   ],
   "source": [
    "int(4.567)"
   ]
  },
  {
   "cell_type": "code",
   "execution_count": 83,
   "id": "9322b75a",
   "metadata": {},
   "outputs": [
    {
     "data": {
      "text/plain": [
       "3.0"
      ]
     },
     "execution_count": 83,
     "metadata": {},
     "output_type": "execute_result"
    }
   ],
   "source": [
    "float(3)"
   ]
  },
  {
   "cell_type": "code",
   "execution_count": 84,
   "id": "9253ee94",
   "metadata": {},
   "outputs": [
    {
     "data": {
      "text/plain": [
       "'3'"
      ]
     },
     "execution_count": 84,
     "metadata": {},
     "output_type": "execute_result"
    }
   ],
   "source": [
    "str(3)"
   ]
  },
  {
   "cell_type": "code",
   "execution_count": 85,
   "id": "ed9218b1",
   "metadata": {},
   "outputs": [],
   "source": [
    "def math(a,b,c):\n",
    "    return a+b+c\n",
    "    return a*b*c\n",
    "    return a+b/c"
   ]
  },
  {
   "cell_type": "code",
   "execution_count": 86,
   "id": "1368ad64",
   "metadata": {},
   "outputs": [
    {
     "data": {
      "text/plain": [
       "9"
      ]
     },
     "execution_count": 86,
     "metadata": {},
     "output_type": "execute_result"
    }
   ],
   "source": [
    "math(2,3,4)"
   ]
  },
  {
   "cell_type": "code",
   "execution_count": 87,
   "id": "3f13417d",
   "metadata": {},
   "outputs": [],
   "source": [
    "##### create a list of all the employees with different name say 5 (from user input)\n",
    "##### create user defined function which returns the largest number(whose length is more)"
   ]
  },
  {
   "cell_type": "code",
   "execution_count": 88,
   "id": "372997f7",
   "metadata": {},
   "outputs": [],
   "source": [
    "def add(a,b,c=2):\n",
    "    return a+b+c"
   ]
  },
  {
   "cell_type": "code",
   "execution_count": 89,
   "id": "c9eb337d",
   "metadata": {},
   "outputs": [
    {
     "data": {
      "text/plain": [
       "7"
      ]
     },
     "execution_count": 89,
     "metadata": {},
     "output_type": "execute_result"
    }
   ],
   "source": [
    "add(2,3)"
   ]
  },
  {
   "cell_type": "code",
   "execution_count": 90,
   "id": "09b0a05b",
   "metadata": {},
   "outputs": [
    {
     "data": {
      "text/plain": [
       "9"
      ]
     },
     "execution_count": 90,
     "metadata": {},
     "output_type": "execute_result"
    }
   ],
   "source": [
    "add(2,3,4)"
   ]
  },
  {
   "cell_type": "code",
   "execution_count": 91,
   "id": "ddd83c14",
   "metadata": {},
   "outputs": [],
   "source": [
    "def add(a,b,c=2):\n",
    "    c = 1\n",
    "    return a+b+c"
   ]
  },
  {
   "cell_type": "code",
   "execution_count": 92,
   "id": "8a3971b0",
   "metadata": {},
   "outputs": [
    {
     "data": {
      "text/plain": [
       "6"
      ]
     },
     "execution_count": 92,
     "metadata": {},
     "output_type": "execute_result"
    }
   ],
   "source": [
    "add(2,3,4)"
   ]
  },
  {
   "cell_type": "code",
   "execution_count": 93,
   "id": "765b9531",
   "metadata": {},
   "outputs": [
    {
     "data": {
      "text/plain": [
       "5"
      ]
     },
     "execution_count": 93,
     "metadata": {},
     "output_type": "execute_result"
    }
   ],
   "source": [
    "len(\"dipak\")"
   ]
  },
  {
   "cell_type": "code",
   "execution_count": 95,
   "id": "6536d38c",
   "metadata": {},
   "outputs": [],
   "source": [
    "# Print give the name of max length of character"
   ]
  },
  {
   "cell_type": "code",
   "execution_count": 96,
   "id": "2908db04",
   "metadata": {},
   "outputs": [],
   "source": [
    "test_list = ['anand','harsh','manisha','aishwarya','hanuman']"
   ]
  },
  {
   "cell_type": "code",
   "execution_count": 97,
   "id": "198efb76",
   "metadata": {},
   "outputs": [
    {
     "data": {
      "text/plain": [
       "['anand', 'harsh', 'manisha', 'aishwarya', 'hanuman']"
      ]
     },
     "execution_count": 97,
     "metadata": {},
     "output_type": "execute_result"
    }
   ],
   "source": [
    "test_list"
   ]
  },
  {
   "cell_type": "code",
   "execution_count": 98,
   "id": "0ea1e943",
   "metadata": {},
   "outputs": [
    {
     "name": "stdout",
     "output_type": "stream",
     "text": [
      "Maximum length string is: hanuman\n"
     ]
    }
   ],
   "source": [
    "max_len = 1\n",
    "for ele in test_list:\n",
    "    if len(ele) > max_len:\n",
    "        res = ele\n",
    "    \n",
    "print(\"Maximum length string is: \" +res)"
   ]
  },
  {
   "cell_type": "code",
   "execution_count": 99,
   "id": "26435c6a",
   "metadata": {},
   "outputs": [],
   "source": [
    "def biglen():\n",
    "    li = []\n",
    "    res=0\n",
    "    for i in range(5):\n",
    "        li.append(input('enter a name: '))\n",
    "        if len(li[i]) > res:\n",
    "            res = len(li[i])\n",
    "            temp = li[i]\n",
    "    return temp"
   ]
  },
  {
   "cell_type": "code",
   "execution_count": 100,
   "id": "a3929c74",
   "metadata": {},
   "outputs": [
    {
     "name": "stdout",
     "output_type": "stream",
     "text": [
      "enter a name: abc\n",
      "enter a name: abcd\n",
      "enter a name: abcde\n",
      "enter a name: adhdjj\n",
      "enter a name: akkkkkk\n"
     ]
    },
    {
     "data": {
      "text/plain": [
       "'akkkkkk'"
      ]
     },
     "execution_count": 100,
     "metadata": {},
     "output_type": "execute_result"
    }
   ],
   "source": [
    "biglen()"
   ]
  },
  {
   "cell_type": "code",
   "execution_count": 101,
   "id": "495b4ba6",
   "metadata": {},
   "outputs": [
    {
     "ename": "TypeError",
     "evalue": "abc() missing 3 required positional arguments: 'a', 'b', and 'c'",
     "output_type": "error",
     "traceback": [
      "\u001b[1;31m---------------------------------------------------------------------------\u001b[0m",
      "\u001b[1;31mTypeError\u001b[0m                                 Traceback (most recent call last)",
      "Input \u001b[1;32mIn [101]\u001b[0m, in \u001b[0;36m<cell line: 1>\u001b[1;34m()\u001b[0m\n\u001b[1;32m----> 1\u001b[0m \u001b[43mabc\u001b[49m\u001b[43m(\u001b[49m\u001b[43m)\u001b[49m\n",
      "\u001b[1;31mTypeError\u001b[0m: abc() missing 3 required positional arguments: 'a', 'b', and 'c'"
     ]
    }
   ],
   "source": [
    "abc()"
   ]
  },
  {
   "cell_type": "code",
   "execution_count": 102,
   "id": "20296af0",
   "metadata": {},
   "outputs": [],
   "source": [
    "emp_list = []\n",
    "def emp_list_func():\n",
    "    for i in range(5):\n",
    "        emp_name = input(\"Enter Employee Name = \")\n",
    "        test_list.append(emp_name)"
   ]
  },
  {
   "cell_type": "code",
   "execution_count": 103,
   "id": "64ed5f90",
   "metadata": {},
   "outputs": [
    {
     "name": "stdout",
     "output_type": "stream",
     "text": [
      "Enter Employee Name = akash\n",
      "Enter Employee Name = pravin\n",
      "Enter Employee Name = shubham\n",
      "Enter Employee Name = abhi\n",
      "Enter Employee Name = pankaj d\n"
     ]
    }
   ],
   "source": [
    "emp_list_func()"
   ]
  },
  {
   "cell_type": "code",
   "execution_count": null,
   "id": "91a36ace",
   "metadata": {},
   "outputs": [],
   "source": [
    "########################LAMBDA FUNCTION##############################"
   ]
  },
  {
   "cell_type": "code",
   "execution_count": null,
   "id": "d738d7c5",
   "metadata": {},
   "outputs": [],
   "source": [
    "### its a one line function which can take any number of  but only one expression, which is evaluated and returned\n",
    "### its a anonoymous function i.e without name\n",
    "### Lambda keyword is used to define it\n",
    "### No def keyword is used\n",
    "### one is free to use lambda functions whenever functions obj are required\n",
    "## You need to keep in your knowledge that lambda function are syntactically restricted to a single expression\n",
    "## the lambda operator => separates the input parameters on the left side from the lambda body on the right side"
   ]
  },
  {
   "cell_type": "code",
   "execution_count": 104,
   "id": "cc2c2310",
   "metadata": {},
   "outputs": [],
   "source": [
    "z = lambda a,b,c:a*b/c"
   ]
  },
  {
   "cell_type": "code",
   "execution_count": 6,
   "id": "5505d9b2",
   "metadata": {},
   "outputs": [
    {
     "data": {
      "text/plain": [
       "24.0"
      ]
     },
     "execution_count": 6,
     "metadata": {},
     "output_type": "execute_result"
    }
   ],
   "source": [
    "z(8,9,3)"
   ]
  },
  {
   "cell_type": "code",
   "execution_count": 7,
   "id": "1684e6d8",
   "metadata": {},
   "outputs": [],
   "source": [
    "cube = lambda x : x*x*x"
   ]
  },
  {
   "cell_type": "code",
   "execution_count": 8,
   "id": "2d73476d",
   "metadata": {},
   "outputs": [
    {
     "data": {
      "text/plain": [
       "343"
      ]
     },
     "execution_count": 8,
     "metadata": {},
     "output_type": "execute_result"
    }
   ],
   "source": [
    "cube(7)"
   ]
  },
  {
   "cell_type": "code",
   "execution_count": 9,
   "id": "1ce433f9",
   "metadata": {},
   "outputs": [],
   "source": [
    "### Create an empty list \n",
    "### ask the user 5 times to input any number\n",
    "### use lambda function to test for odd and even and pass the number4 to another list calling odd /even"
   ]
  },
  {
   "cell_type": "code",
   "execution_count": 10,
   "id": "e324c53b",
   "metadata": {},
   "outputs": [
    {
     "ename": "SyntaxError",
     "evalue": "invalid syntax (1296789662.py, line 1)",
     "output_type": "error",
     "traceback": [
      "\u001b[1;36m  Input \u001b[1;32mIn [10]\u001b[1;36m\u001b[0m\n\u001b[1;33m    Check_No= lambda mylist[i]: if mylist[i]%2==0 print(\"Even\") else (\"Odd\")\u001b[0m\n\u001b[1;37m                           ^\u001b[0m\n\u001b[1;31mSyntaxError\u001b[0m\u001b[1;31m:\u001b[0m invalid syntax\n"
     ]
    }
   ],
   "source": [
    "Check_No= lambda mylist[i]: if mylist[i]%2==0 print(\"Even\") else (\"Odd\")"
   ]
  },
  {
   "cell_type": "code",
   "execution_count": 11,
   "id": "392c5600",
   "metadata": {},
   "outputs": [
    {
     "name": "stdout",
     "output_type": "stream",
     "text": [
      "Enter a number >> 24\n",
      "Even Number\n"
     ]
    }
   ],
   "source": [
    "number = int(input(\"Enter a number >> \"))\n",
    "odd_even = lambda : \"Even Number\" if number % 2 == 0 else \"Odd Number\"\n",
    "print(odd_even())"
   ]
  },
  {
   "cell_type": "code",
   "execution_count": null,
   "id": "33de5a15",
   "metadata": {},
   "outputs": [],
   "source": [
    "########################filter function###############################"
   ]
  },
  {
   "cell_type": "code",
   "execution_count": 19,
   "id": "be927d55",
   "metadata": {},
   "outputs": [],
   "source": [
    "list_test = [4,5,6,7,8,6,7,8,8]"
   ]
  },
  {
   "cell_type": "code",
   "execution_count": 20,
   "id": "ddce9159",
   "metadata": {},
   "outputs": [],
   "source": [
    "a = list(filter(lambda x:x%2==0,list_test))\n",
    "b = list(filter(lambda x:x%2!=0,list_test))"
   ]
  },
  {
   "cell_type": "code",
   "execution_count": 21,
   "id": "319fede5",
   "metadata": {},
   "outputs": [
    {
     "data": {
      "text/plain": [
       "([4, 6, 8, 6, 8, 8], [5, 7, 7])"
      ]
     },
     "execution_count": 21,
     "metadata": {},
     "output_type": "execute_result"
    }
   ],
   "source": [
    "a,b"
   ]
  },
  {
   "cell_type": "code",
   "execution_count": 23,
   "id": "4f9da363",
   "metadata": {},
   "outputs": [],
   "source": [
    "def even_check(n):\n",
    "    if n%2==0:\n",
    "        return True"
   ]
  },
  {
   "cell_type": "code",
   "execution_count": 24,
   "id": "687e3b34",
   "metadata": {},
   "outputs": [
    {
     "data": {
      "text/plain": [
       "[4, 6, 8, 6, 8, 8]"
      ]
     },
     "execution_count": 24,
     "metadata": {},
     "output_type": "execute_result"
    }
   ],
   "source": [
    "list(filter(even_check,list_test))"
   ]
  },
  {
   "cell_type": "code",
   "execution_count": 25,
   "id": "421960d6",
   "metadata": {},
   "outputs": [],
   "source": [
    "z = lambda a,b,c:a**2+b*3+c"
   ]
  },
  {
   "cell_type": "code",
   "execution_count": 26,
   "id": "bdc37ea0",
   "metadata": {},
   "outputs": [
    {
     "data": {
      "text/plain": [
       "50"
      ]
     },
     "execution_count": 26,
     "metadata": {},
     "output_type": "execute_result"
    }
   ],
   "source": [
    "z(5,6,7)"
   ]
  },
  {
   "cell_type": "code",
   "execution_count": 27,
   "id": "55f64a5f",
   "metadata": {},
   "outputs": [],
   "source": [
    "from functools import reduce"
   ]
  },
  {
   "cell_type": "code",
   "execution_count": 28,
   "id": "834cfaf8",
   "metadata": {},
   "outputs": [
    {
     "data": {
      "text/plain": [
       "39"
      ]
     },
     "execution_count": 28,
     "metadata": {},
     "output_type": "execute_result"
    }
   ],
   "source": [
    "test = [4,5,6,7,8,9]\n",
    "reduce(lambda x,y:x+y,test)"
   ]
  },
  {
   "cell_type": "code",
   "execution_count": 29,
   "id": "87ed643e",
   "metadata": {},
   "outputs": [
    {
     "data": {
      "text/plain": [
       "0.0002645502645502645"
      ]
     },
     "execution_count": 29,
     "metadata": {},
     "output_type": "execute_result"
    }
   ],
   "source": [
    "test = [4,5,6,7,8,9]\n",
    "reduce(lambda x,y:x/y,test) ##only 2 arguments are allowed.."
   ]
  },
  {
   "cell_type": "code",
   "execution_count": 30,
   "id": "4e228a4d",
   "metadata": {},
   "outputs": [
    {
     "data": {
      "text/plain": [
       "60"
      ]
     },
     "execution_count": 30,
     "metadata": {},
     "output_type": "execute_result"
    }
   ],
   "source": [
    "test = [4,5,6,7,8,9,10,11] ##only 2 arguments are allowed...\n",
    "reduce(lambda x,y:x+y,test)"
   ]
  },
  {
   "cell_type": "code",
   "execution_count": 32,
   "id": "6b6b5467",
   "metadata": {},
   "outputs": [],
   "source": [
    "def mydata(n):\n",
    "    return lambda a,b: (a+b)*n"
   ]
  },
  {
   "cell_type": "code",
   "execution_count": 33,
   "id": "75dba00f",
   "metadata": {},
   "outputs": [
    {
     "name": "stdout",
     "output_type": "stream",
     "text": [
      "20\n"
     ]
    }
   ],
   "source": [
    "var = mydata(4)\n",
    "print(var(2,3))"
   ]
  },
  {
   "cell_type": "code",
   "execution_count": 34,
   "id": "fd906b33",
   "metadata": {},
   "outputs": [],
   "source": [
    "######################## MAP ###############################"
   ]
  },
  {
   "cell_type": "code",
   "execution_count": 35,
   "id": "478c4ec4",
   "metadata": {},
   "outputs": [],
   "source": [
    "list_test = [3,4,5,6,7,8,9,9]"
   ]
  },
  {
   "cell_type": "code",
   "execution_count": 36,
   "id": "b713be63",
   "metadata": {},
   "outputs": [
    {
     "data": {
      "text/plain": [
       "[9, 16, 25, 36, 49, 64, 81, 81]"
      ]
     },
     "execution_count": 36,
     "metadata": {},
     "output_type": "execute_result"
    }
   ],
   "source": [
    "list(map(lambda x : x**2,list_test))"
   ]
  },
  {
   "cell_type": "code",
   "execution_count": 37,
   "id": "720b9358",
   "metadata": {},
   "outputs": [],
   "source": [
    "a = [1,2,3,4,5]\n",
    "b = [5,6,7,4,3]\n",
    "c = [6,7,8,6,5,5,4]"
   ]
  },
  {
   "cell_type": "code",
   "execution_count": 38,
   "id": "231c9d78",
   "metadata": {},
   "outputs": [],
   "source": [
    "def summation(x,y,z):\n",
    "    return x+y+z"
   ]
  },
  {
   "cell_type": "code",
   "execution_count": 39,
   "id": "d696f9e7",
   "metadata": {},
   "outputs": [
    {
     "data": {
      "text/plain": [
       "[12, 15, 18, 14, 13]"
      ]
     },
     "execution_count": 39,
     "metadata": {},
     "output_type": "execute_result"
    }
   ],
   "source": [
    "list(map(summation,a,b,c))"
   ]
  },
  {
   "cell_type": "code",
   "execution_count": null,
   "id": "68ecfc23",
   "metadata": {},
   "outputs": [],
   "source": []
  }
 ],
 "metadata": {
  "kernelspec": {
   "display_name": "Python 3 (ipykernel)",
   "language": "python",
   "name": "python3"
  },
  "language_info": {
   "codemirror_mode": {
    "name": "ipython",
    "version": 3
   },
   "file_extension": ".py",
   "mimetype": "text/x-python",
   "name": "python",
   "nbconvert_exporter": "python",
   "pygments_lexer": "ipython3",
   "version": "3.9.7"
  }
 },
 "nbformat": 4,
 "nbformat_minor": 5
}
